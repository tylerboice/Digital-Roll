{
 "cells": [
  {
   "cell_type": "code",
   "execution_count": 34,
   "metadata": {},
   "outputs": [],
   "source": [
    "import json\n",
    "import base64\n",
    "\n",
    "# Open a json to write to\n",
    "fjson = open('Test.json', 'w')\n",
    "\n",
    "# Takes in image and converts it to json\n",
    "convertedImage = {}\n",
    "convertedImage['accelerometer'] = []\n",
    "\n",
    "# Open the image for reading\n",
    "with open('TestImage.jpg', mode='rb') as file:\n",
    "    img = file.read()\n",
    "\n",
    "# Convert file into base 64 for json folder\n",
    "convertedImage['img'] = base64.encodebytes(img).decode(\"utf-8\")\n",
    "\n",
    "# Write Accelerometer Data\n",
    "with open('AccelOut.txt', mode = 'rb') as faccel:\n",
    "    # Write line by line into data dictionary at end of json file\n",
    "    convertedImage['accelerometer'] = base64.encodebytes(faccel.readline()).decode(\"utf-8\")\n",
    "    \n",
    "# Dump all the collected data into the json file\n",
    "fjson.write(json.dumps(convertedImage))\n",
    "fjson.write(json.dumps(convertedImage[\"accelerometer\"]))\n",
    "fjson.close()"
   ]
  },
  {
   "cell_type": "code",
   "execution_count": null,
   "metadata": {
    "collapsed": true
   },
   "outputs": [],
   "source": []
  }
 ],
 "metadata": {
  "kernelspec": {
   "display_name": "Python 3",
   "language": "python",
   "name": "python3"
  },
  "language_info": {
   "codemirror_mode": {
    "name": "ipython",
    "version": 3
   },
   "file_extension": ".py",
   "mimetype": "text/x-python",
   "name": "python",
   "nbconvert_exporter": "python",
   "pygments_lexer": "ipython3",
   "version": "3.6.2"
  }
 },
 "nbformat": 4,
 "nbformat_minor": 2
}
